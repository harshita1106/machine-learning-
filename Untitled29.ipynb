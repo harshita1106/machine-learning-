{
  "nbformat": 4,
  "nbformat_minor": 0,
  "metadata": {
    "colab": {
      "provenance": [],
      "authorship_tag": "ABX9TyO5eVaHJu0tiDw9qHsTmZqG",
      "include_colab_link": true
    },
    "kernelspec": {
      "name": "python3",
      "display_name": "Python 3"
    },
    "language_info": {
      "name": "python"
    }
  },
  "cells": [
    {
      "cell_type": "markdown",
      "metadata": {
        "id": "view-in-github",
        "colab_type": "text"
      },
      "source": [
        "<a href=\"https://colab.research.google.com/github/harshita1106/machine-learning-/blob/main/Untitled29.ipynb\" target=\"_parent\"><img src=\"https://colab.research.google.com/assets/colab-badge.svg\" alt=\"Open In Colab\"/></a>"
      ]
    },
    {
      "cell_type": "code",
      "execution_count": 1,
      "metadata": {
        "colab": {
          "base_uri": "https://localhost:8080/"
        },
        "id": "2XBvTej_9vng",
        "outputId": "373c8993-c6e6-44c9-e095-7683975cf84f"
      },
      "outputs": [
        {
          "output_type": "stream",
          "name": "stdout",
          "text": [
            "Training Data:\n",
            "      Sky AirTemp Humidity    Wind Water Forecast EnjoySport\n",
            "0  Sunny    Warm   Normal  Strong  Warm     Same        Yes\n",
            "1  Sunny    Warm     High  Strong  Warm     Same        Yes\n",
            "2  Rainy    Cold     High  Strong  Warm   Change         No\n",
            "3  Sunny    Warm     High  Strong  Cool   Change        Yes\n",
            "\n",
            "Most specific hypothesis (FIND-S result):\n",
            "['Sunny', 'Warm', '?', 'Strong', '?', '?']\n"
          ]
        }
      ],
      "source": [
        "import pandas as pd\n",
        "data = pd.DataFrame([\n",
        "    ['Sunny', 'Warm', 'Normal', 'Strong', 'Warm', 'Same', 'Yes'],\n",
        "    ['Sunny', 'Warm', 'High', 'Strong', 'Warm', 'Same', 'Yes'],\n",
        "    ['Rainy', 'Cold', 'High', 'Strong', 'Warm', 'Change', 'No'],\n",
        "    ['Sunny', 'Warm', 'High', 'Strong', 'Cool', 'Change', 'Yes']\n",
        "], columns=['Sky', 'AirTemp', 'Humidity', 'Wind', 'Water', 'Forecast', 'EnjoySport'])\n",
        "\n",
        "print(\"Training Data:\\n\", data)\n",
        "num_attributes = len(data.columns) - 1\n",
        "hypothesis = ['0'] * num_attributes\n",
        "for i in range(len(data)):\n",
        "    if data['EnjoySport'][i] == 'Yes':\n",
        "        for j in range(num_attributes):\n",
        "            if hypothesis[j] == '0':\n",
        "                hypothesis[j] = data.iloc[i, j]\n",
        "            elif hypothesis[j] != data.iloc[i, j]:\n",
        "                hypothesis[j] = '?'\n",
        "\n",
        "print(\"\\nMost specific hypothesis (FIND-S result):\")\n",
        "print(hypothesis)"
      ]
    }
  ]
}